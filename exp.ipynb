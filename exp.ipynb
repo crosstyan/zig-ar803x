{
 "cells": [
  {
   "cell_type": "markdown",
   "metadata": {},
   "source": [
    "aa1600000004010003000000000000000045000000000000000068656c6c6f2066726f6d20444556bb\n",
    "aa 10'00'00'00 04'01'00'03 00'00'00'00 ff'ff'fe'f8 45 00000000000000000e00000078563412bb"
   ]
  },
  {
   "cell_type": "code",
   "execution_count": 2,
   "metadata": {},
   "outputs": [
    {
     "data": {
      "text/plain": [
       "-262"
      ]
     },
     "metadata": {},
     "output_type": "display_data"
    }
   ],
   "source": [
    "# bs = bytes([0xff, 0xff, 0xfe, 0xf8])\n",
    "bs = bytes([0xff, 0xff, 0xfe, 0xfa])\n",
    "val = int.from_bytes(bs, byteorder='big', signed=True)\n",
    "display(val)"
   ]
  },
  {
   "cell_type": "code",
   "execution_count": 3,
   "metadata": {},
   "outputs": [],
   "source": [
    "OK = -0x106\n",
    "UPDATE_ADDRESS = -0x107\n",
    "ERROR = -0x108"
   ]
  },
  {
   "cell_type": "markdown",
   "metadata": {},
   "source": [
    "```\n",
    "# pos uint64_t\n",
    "2a'00'00'00 00'00'00'00 \n",
    "# len uint32_t\n",
    "0e'00'00'00 \n",
    "# gibberish\n",
    "78563412\n",
    "```"
   ]
  }
 ],
 "metadata": {
  "kernelspec": {
   "display_name": "base",
   "language": "python",
   "name": "python3"
  },
  "language_info": {
   "codemirror_mode": {
    "name": "ipython",
    "version": 3
   },
   "file_extension": ".py",
   "mimetype": "text/x-python",
   "name": "python",
   "nbconvert_exporter": "python",
   "pygments_lexer": "ipython3",
   "version": "3.12.3"
  }
 },
 "nbformat": 4,
 "nbformat_minor": 2
}
